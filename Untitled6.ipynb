{
  "nbformat": 4,
  "nbformat_minor": 0,
  "metadata": {
    "colab": {
      "provenance": []
    },
    "kernelspec": {
      "name": "python3",
      "display_name": "Python 3"
    },
    "language_info": {
      "name": "python"
    }
  },
  "cells": [
    {
      "cell_type": "markdown",
      "source": [
        "#Python OOPs Questions"
      ],
      "metadata": {
        "id": "w6mZwMECYLGf"
      }
    },
    {
      "cell_type": "markdown",
      "source": [
        "QUS 1 :-  What is Object-Oriented Programming (OOP)\n",
        "ANS Object-Oriented Programming (OOP) is a programming paradigm based on the concept of \"objects\", which are instances of classes. These objects can contain data, in the form of fields (also known as attributes or properties), and code, in the form of procedures (also known as methods).\n",
        "Modularity: Code is organized into classes.\n",
        "Reusability: Inherited code avoids redundancy.\n",
        "Scalability: Easier to manage growing codebases.\n",
        "Maintainability: Encapsulated code is easier to debug and update."
      ],
      "metadata": {
        "id": "LUzUbHFzYSl2"
      }
    },
    {
      "cell_type": "markdown",
      "source": [
        "QUS 2 :-  What is a class in OOP\n",
        "ANS\n",
        "In Object-Oriented Programming (OOP), a class is a blueprint or template used to create objects. It defines a set of attributes (data) and methods (functions) that the created objects (instances) will have.\n",
        "A class is the definition.\n",
        "An object is an instance of the class.\n",
        "Classes help organize code using the principles of OOP: encapsulation, inheritance, etc.\n"
      ],
      "metadata": {
        "id": "6i4EtZndYn52"
      }
    },
    {
      "cell_type": "markdown",
      "source": [
        "QUS 3:-  What is an object in OOP\n",
        "ANS In Object-Oriented Programming (OOP), an object is an instance of a class.\n",
        "An object is a concrete instance of a class.\n",
        "It bundles data (attributes) and functions (methods) together.\n",
        "You can create multiple objects from a single class, each with its own unique data."
      ],
      "metadata": {
        "id": "SK1_EUBEY2d2"
      }
    },
    {
      "cell_type": "markdown",
      "source": [
        "QUS 4 :-  What is the difference between abstraction and encapsulation\n",
        "ANS Great question! Abstraction and Encapsulation are both core principles of Object-Oriented Programming (OOP), but they serve different purposes.\n",
        "Abstraction = Hiding implementation → Focus on what it does\n",
        "Encapsulation = Hiding data → Focus on how it’s protected"
      ],
      "metadata": {
        "id": "SKMTVf4dZLXP"
      }
    },
    {
      "cell_type": "markdown",
      "source": [],
      "metadata": {
        "id": "ifTcVpwYZFbv"
      }
    },
    {
      "cell_type": "markdown",
      "source": [
        "QUS 5 :-  What are dunder methods in Python\n",
        "ANS ChatGPT said:\n",
        "In Python, dunder methods (short for “double underscore” methods) are special methods that have names starting and ending with double underscores, like __init__, __str__, __len__, etc.\n",
        "They are also called magic methods or special methods.\n",
        "| Method        | Purpose                                   | Example Use               |\n",
        "| ------------- | ----------------------------------------- | ------------------------- |\n",
        "| `__init__`    | Constructor: Initializes the object       | `obj = MyClass()`         |\n",
        "| `__str__`     | String representation for `print()`       | `print(obj)`              |\n",
        "| `__repr__`    | Official string representation            | Used in debugging/logging |\n",
        "| `__len__`     | Defines behavior for `len(obj)`           | `len(my_object)`          |\n",
        "| `__eq__`      | Equality check with `==`                  | `obj1 == obj2`            |\n",
        "| `__add__`     | Overload `+` operator                     | `obj1 + obj2`             |\n",
        "| `__getitem__` | Enable indexing like `obj[index]`         | `obj[0]`                  |\n",
        "| `__call__`    | Makes an object callable like a function  | `obj()`                   |\n",
        "| `__del__`     | Destructor: Called when object is deleted | `del obj`                 |\n",
        "Dunder methods make your classes behave more like Python’s built-in types.\n",
        "They’re triggered automatically by Python in certain operations.\n",
        "You can override them to add custom behavior."
      ],
      "metadata": {
        "id": "xE2PLN-HZrbf"
      }
    },
    {
      "cell_type": "markdown",
      "source": [
        "QUS 6 :-  Explain the concept of inheritance in OOP\n",
        "ANS What is Inheritance in OOP?\n",
        "Inheritance is a key concept in Object-Oriented Programming (OOP) that allows a class (child/subclass) to inherit properties and behaviors (attributes and methods) from another class (parent/superclass).\n",
        "\n",
        ":- Types of Inheritance (in Python):\n",
        "Single Inheritance – One child, one parent\n",
        "Multiple Inheritance – One child, multiple parents\n",
        "Multilevel Inheritance – Child inherits from a class that inherits from another class\n",
        "Hierarchical Inheritance – Multiple children from one parent\n",
        "Hybrid Inheritance – Combination of multiple types\n",
        "\n",
        "Inheritance allows one class to acquire the properties and methods of another.\n",
        "It encourages reusability and extensibility.\n",
        "Python supports multiple forms of inheritance with a clean syntax.\n"
      ],
      "metadata": {
        "id": "PSn3NpMuZ-r5"
      }
    },
    {
      "cell_type": "markdown",
      "source": [
        "QUS 7:- What is Polymorphism in OOP\n",
        "Polymorphism (from Greek: poly = many, morph = forms) is an Object-Oriented Programming (OOP) concept where a single interface can represent different underlying forms (data types or behaviors).\n",
        "\n",
        "In simple terms, polymorphism allows different classes to define methods with the same name but different behavior.\n",
        "\n",
        "| Concept           | Description                                                                |\n",
        "| ----------------- | -------------------------------------------------------------------------- |\n",
        "| Polymorphism      | Same method name behaves differently based on the object or class context. |\n",
        "| Method Overriding | Subclass changes the behavior of a method inherited from parent class.     |\n",
        "| Interface Use     | Different objects can be treated through the same interface or function.   |\n"
      ],
      "metadata": {
        "id": "T9rlIr8nachH"
      }
    },
    {
      "cell_type": "markdown",
      "source": [
        "QUS 8 :-  How is encapsulation achieved in PythoN\n",
        "ANS Encapsulation involves bundling data (attributes) and methods (functions) that operate on the data into a single unit — a class.\n",
        "| Modifier  | Syntax         | Access Level                           |\n",
        "| --------- | -------------- | -------------------------------------- |\n",
        "| Public    | `self.value`   | Accessible from anywhere               |\n",
        "| Protected | `self._value`  | Meant to be accessed only in subclass  |\n",
        "| Private   | `self.__value` | Name mangled to prevent outside access |\n",
        "Encapsulation is achieved in Python by:\n",
        "Defining a class to group related data and methods.\n",
        "Using __ (double underscores) to make attributes private.\n",
        "Providing getter/setter methods to access or modify private attributes safely.\n",
        "Encouraging restricted access through naming conventions."
      ],
      "metadata": {
        "id": "NntrNw1JavBI"
      }
    },
    {
      "cell_type": "markdown",
      "source": [
        "QUS 9 :-  What is a constructor in Python\n",
        "ANS What is a Constructor in Python?\n",
        "A constructor in Python is a special method used to initialize a newly created object of a class.\n",
        " Key Points:\n",
        "__init__ is automatically called when a new object is instantiated.\n",
        "The first argument is always self, which refers to the current object.\n",
        "You can define default values for parameters if needed.\n",
        "\n",
        "\n"
      ],
      "metadata": {
        "id": "ztiLuTpUbK7A"
      }
    },
    {
      "cell_type": "markdown",
      "source": [
        "QUS 10 :-  What are class and static methods in Python\n",
        "ANS Python supports both class methods and static methods, which are different from regular instance methods.\n",
        "| Feature          | Instance Method        | Class Method                | Static Method             |\n",
        "| ---------------- | ---------------------- | --------------------------- | ------------------------- |\n",
        "| Decorator        | *None*                 | `@classmethod`              | `@staticmethod`           |\n",
        "| First Argument   | `self` (instance)      | `cls` (class)               | No default first argument |\n",
        "| Access instance? | ✅ Yes                  | ❌ No                        | ❌ No                      |\n",
        "| Access class?    | ✅ (via self.**class**) | ✅ Yes                       | ❌ No                      |\n",
        "| Common Use       | Operate on instance    | Operate on class-level data | Utility/helper methods    |\n"
      ],
      "metadata": {
        "id": "r91g4SZcbewQ"
      }
    },
    {
      "cell_type": "markdown",
      "source": [
        "QUS 11 :-  What is method overloading in Python\n",
        "ANS What is Method Overloading in Python?\n",
        "Method Overloading means defining multiple methods with the same name but different parameters (number or type).\n",
        "| Feature                       | Python Overloading Support  |\n",
        "| ----------------------------- | --------------------------- |\n",
        "| Traditional overloading       | ❌ Not supported             |\n",
        "| Default arguments             | ✅ Yes                       |\n",
        "| `*args` / `**kwargs`          | ✅ Yes                       |\n",
        "| Function annotations (typing) | ✅ Can use, but not enforced |\n"
      ],
      "metadata": {
        "id": "J7LXcvQKbrCw"
      }
    },
    {
      "cell_type": "markdown",
      "source": [
        "QUS 12 :-  What is method overriding in OOP\n",
        "ANS What is Method Overriding in OOP?\n",
        "Method Overriding is an object-oriented programming (OOP) concept where a subclass provides a specific implementation of a method that is already defined in its parent class.\n",
        "| Feature            | Method Overloading            | Method Overriding          |\n",
        "| ------------------ | ----------------------------- | -------------------------- |\n",
        "| Class Relationship | Same class                    | Parent-child (inheritance) |\n",
        "| Method Name        | Same                          | Same                       |\n",
        "| Parameters         | Different                     | Same                       |\n",
        "| Purpose            | Multiple ways to call method  | Modify inherited behavior  |\n",
        "| Python Support     | Simulated (with `*args`, etc) | Fully supported            |\n"
      ],
      "metadata": {
        "id": "b6TACsnhb4qY"
      }
    },
    {
      "cell_type": "markdown",
      "source": [
        "QUS 13 :- What is a property decorator in Python\n",
        "ANS  What is a @property Decorator in Python?\n",
        "The @property decorator in Python is used to define getter methods that can be accessed like attributes, while still allowing the use of method logic behind the scenes.\n",
        "To encapsulate attribute access.\n",
        "To make method calls look like attribute access.\n",
        "TO add validation or computation when getting/setting attributes.\n",
        "| Decorator         | Purpose                           |\n",
        "| ----------------- | --------------------------------- |\n",
        "| `@property`       | Defines a getter                  |\n",
        "| `@<prop>.setter`  | Defines a setter (write access)   |\n",
        "| `@<prop>.deleter` | Defines a deleter (delete access) |\n",
        "\n"
      ],
      "metadata": {
        "id": "suOlmoBfcdiR"
      }
    },
    {
      "cell_type": "markdown",
      "source": [
        "QUS 14 :-  Why is polymorphism important in OOP\n",
        "ANS Why is Polymorphism Important in OOP?\n",
        "Polymorphism (from Greek poly = many, morph = form) means the same interface or method name behaves differently depending on the object it is acting on.\n",
        "| Type                       | Description                             | Example                          |\n",
        "| -------------------------- | --------------------------------------- | -------------------------------- |\n",
        "| Compile-time (Overloading) | Not natively supported in Python        | Simulated using `*args`, etc.    |\n",
        "| Runtime (Overriding)       | Subclass modifies parent method         | Supported using inheritance      |\n",
        "| Duck Typing                | \"If it quacks like a duck...\" (dynamic) | No strict type checking required |\n",
        "\n",
        "Polymorphism is important in OOP because it:\n",
        "Promotes flexible and maintainable code.\n",
        "Enables interface consistency.\n",
        "Supports code reuse and extension.\n",
        "Helps build loosely-coupled, scalable applications."
      ],
      "metadata": {
        "id": "0xyQeJaUc9jh"
      }
    },
    {
      "cell_type": "markdown",
      "source": [
        "QUS 15 :-  What is an abstract class in Python\n",
        "ANS What is an Abstract Class in Python?\n",
        "An abstract class in Python is a class that cannot be instantiated directly and is meant to be inherited by other classes. It defines a common interface (set of methods) that derived classes must implement.\n",
        "\n",
        "| Feature                  | Abstract Class | Interface (Not native in Python) |\n",
        "| ------------------------ | -------------- | -------------------------------- |\n",
        "| Can have implementation? | ✅ Yes          | ❌ Only method declarations       |\n",
        "| Can define attributes?   | ✅ Yes          | ❌ Typically no                   |\n",
        "| Multiple inheritance?    | ✅ Limited      | ✅ Supported using mixins         |\n"
      ],
      "metadata": {
        "id": "5IDlJhYodRcA"
      }
    },
    {
      "cell_type": "markdown",
      "source": [
        "QUS 16 :-  What are the advantages of OOP\n",
        "ANS  Advantages of Object-Oriented Programming (OOP)\n",
        "Object-Oriented Programming (OOP) offers a number of benefits that make software easier to build, maintain, and scale. Here are the key advantages:\n",
        "\n",
        "| OOP Feature     | Advantage                               |\n",
        "| --------------- | --------------------------------------- |\n",
        "| Encapsulation   | Data protection & controlled access     |\n",
        "| Inheritance     | Code reuse & hierarchy                  |\n",
        "| Polymorphism    | Flexibility & method generalization     |\n",
        "| Modularity      | Easier debugging and organization       |\n",
        "| Reusability     | Avoids redundancy                       |\n",
        "| Maintainability | Easier to update and scale the software |\n",
        "\n",
        "\n",
        "\n",
        "\n",
        "\n"
      ],
      "metadata": {
        "id": "EDEZg0dCda8o"
      }
    },
    {
      "cell_type": "markdown",
      "source": [
        "QUS 17:-  What is the difference between a class variable and an instance variable\n",
        "| Feature                 | **Class Variable**                          | **Instance Variable**                                |\n",
        "| ----------------------- | ------------------------------------------- | ---------------------------------------------------- |\n",
        "| **Definition Location** | Inside the class, **outside any method**    | Inside a method (usually `__init__()`), using `self` |\n",
        "| **Belongs To**          | The **class** itself                        | The **instance (object)** of the class               |\n",
        "| **Shared Across**       | Shared by **all instances**                 | Unique to **each instance**                          |\n",
        "| **Accessed By**         | `ClassName.var` or `self.var`               | `self.var`                                           |\n",
        "| **Use Case**            | For **common values** shared by all objects | For **object-specific data**                         |\n",
        "\n",
        "\n",
        "Class Variable: Shared data (like a blueprint).\n",
        "\n",
        "Instance Variable: Unique data (like personal details per object)"
      ],
      "metadata": {
        "id": "uNfkeGgWdw2J"
      }
    },
    {
      "cell_type": "markdown",
      "source": [
        "QUS 18 :- What is multiple inheritance in Python\n",
        "ANS What is Multiple Inheritance in Python?\n",
        "Multiple inheritance is a feature in Python where a class can inherit from more than one parent class. This allows the child class to access attributes and methods from multiple sources.\n",
        "\n"
      ],
      "metadata": {
        "id": "AkJX4PsPeAGJ"
      }
    },
    {
      "cell_type": "markdown",
      "source": [
        "QUS 19 :-  Explain the purpose of ‘’__str__’ and ‘__repr__’ ‘ methods in Python\n",
        "ANS  Purpose of __str__() and __repr__() Methods in Python\n",
        "Both __str__() and __repr__() are special methods (dunder methods) in Python used to define string representations of objects.\n",
        "\n",
        "| Feature         | `__str__()`                | `__repr__()`                            |\n",
        "| --------------- | -------------------------- | --------------------------------------- |\n",
        "| Purpose         | User-friendly string       | Debugging/developer representation      |\n",
        "| Called by       | `str()`, `print()`         | `repr()`, interactive shell             |\n",
        "| Target audience | End users                  | Developers                              |\n",
        "| Fallback        | If `__str__()` not defined | Always available if `__repr__()` exists |\n"
      ],
      "metadata": {
        "id": "X6W8KaJYeN3J"
      }
    },
    {
      "cell_type": "markdown",
      "source": [
        "QUS 20 :-  What is the significance of the ‘super()’ function in Python\n",
        "ANS What is the Significance of super() in Python?\n",
        "The super() function in Python is used to call methods from a parent (or superclass) in a child (or subclass) — without explicitly naming the parent class\n",
        "\n",
        "Purpose of super()\n",
        "Access parent class methods or constructors\n",
        "Support multiple inheritance via method resolution order (MRO)\n",
        "Helps with code reuse and maintainability\n",
        "\n",
        "| Feature                        | Benefit                                      |\n",
        "| ------------------------------ | -------------------------------------------- |\n",
        "| Avoids hardcoding parent class | Easier to change class hierarchy             |\n",
        "| Supports multiple inheritance  | Ensures proper method resolution order (MRO) |\n",
        "| Cleaner and more maintainable  | Promotes DRY (Don't Repeat Yourself) code    |\n",
        ""
      ],
      "metadata": {
        "id": "1vFyXDV3ecrJ"
      }
    },
    {
      "cell_type": "markdown",
      "source": [
        "QUS 21 :-  What is the significance of the __del__ method in Python\n",
        "ANS What is the Significance of the __del__() Method in Python?\n",
        "The __del__() method in Python is a special (dunder) method known as the destructor. It is called automatically when an object is about to be destroyed (i.e., when it is garbage collected).\n",
        "Purpose of __del__():\n",
        "\n",
        "To release resources before an object is removed from memory.\n",
        "Used for cleanup tasks like closing files, network connections, or releasing memory explicitly\n",
        "| Feature             | Description                           |\n",
        "| ------------------- | ------------------------------------- |\n",
        "| Method Name         | `__del__(self)`                       |\n",
        "| Triggered When      | Object is garbage collected           |\n",
        "| Used For            | Cleanup and resource release          |\n",
        "| Not Recommended For | Critical cleanup (use `with` instead) |\n"
      ],
      "metadata": {
        "id": "8MDf_l_Bewex"
      }
    },
    {
      "cell_type": "markdown",
      "source": [
        "QUS 22 :-  What is the difference between @staticmethod and @classmethod in Python\n",
        "ANS Difference Between @staticmethod and @classmethod in Python\n",
        "Both @staticmethod and @classmethod are decorators used to define methods inside a class that aren’t regular instance methods — but they behave differently in terms of how they interact with the class.\n",
        "| Feature               | `@staticmethod`          | `@classmethod`                      |\n",
        "| --------------------- | ------------------------ | ----------------------------------- |\n",
        "| First Argument        | None                     | `cls` (class reference)             |\n",
        "| Can Access `self`?    | ❌ No                     | ❌ No                                |\n",
        "| Can Access `cls`?     | ❌ No                     | ✅ Yes                               |\n",
        "| Can Modify Class Data | ❌ No                     | ✅ Yes                               |\n",
        "| Use Case              | Utility/helper functions | Factory methods, modify class state |\n",
        "| Inheritance Aware     | ❌ No                     | ✅ Yes                               |\n",
        "\n",
        "\n",
        "Use staticmethod when the method doesn't need access to the class or instance.\n",
        "Use classmethod when the method needs to work with the class itself (e.g., factory methods, changing class variables).\n",
        "\n"
      ],
      "metadata": {
        "id": "FoCXuQh5e-6p"
      }
    },
    {
      "cell_type": "markdown",
      "source": [
        "QUS 23 :-  How does polymorphism work in Python with inheritance\n",
        "ANS How Polymorphism Works in Python with Inheritance\n",
        "Polymorphism allows objects of different classes to be treated using a common interface, especially when they share a common parent class.\n",
        "In Python, polymorphism is achieved naturally through inheritance and method overriding.\n",
        "| Feature                    | Description                                                  |\n",
        "| -------------------------- | ------------------------------------------------------------ |\n",
        "| **Code Reusability**       | Write generic functions that work with many object types.    |\n",
        "| **Extensibility**          | Add new subclasses without changing existing code.           |\n",
        "| **Dynamic Method Binding** | Method call is resolved at runtime based on the object type. |\n",
        "\n",
        "Python supports runtime polymorphism via method overriding.\n",
        "The same interface (speak()) can behave differently depending on the actual object (Dog, Cat, etc.).\n",
        "Makes code more flexible, reusable, and easier to maintain.\n"
      ],
      "metadata": {
        "id": "wNqQ779XfRLC"
      }
    },
    {
      "cell_type": "markdown",
      "source": [
        "QUS 15 :- What is method chaining in Python OOP\n",
        "ANS What is Method Chaining in Python OOP?\n",
        "Method chaining is a technique in Object-Oriented Programming (OOP) where multiple method calls are made in a single line, by having each method return the object itself (typically self)\n",
        "| Benefit              | Description                                   |\n",
        "| -------------------- | --------------------------------------------- |\n",
        "| ✅ Concise Code       | Fewer lines; cleaner, readable expressions    |\n",
        "| ✅ Fluent Interface   | Natural, fluid way to write operations        |\n",
        "| ✅ Chained Logic Flow | Easy to apply multiple modifications in a row |\n",
        "\n",
        "\n",
        "Method chaining means calling multiple methods on the same object in a single line.\n",
        "Requires each method to return self.\n",
        "Makes your code fluent and expressive."
      ],
      "metadata": {
        "id": "WnoA9HN-fjf5"
      }
    },
    {
      "cell_type": "markdown",
      "source": [
        "QUS 25 :-  What is the purpose of the __call__ method in Python\n",
        "ANS What is the Purpose of the __call__ Method in Python?\n",
        "The __call__ method in Python allows instances of a class to be called like functions. This means you can \"call\" an object, and it will execute the __call__() method.\n",
        "Make an object behave like a function\n",
        "Enable function-like behavior while retaining object state\n",
        "Useful in decorators, machine learning models, simulations, etc\n",
        "\n",
        "__call__() lets objects act like functions\n",
        "Enables flexible, clean, and reusable class-based designs\n",
        "Often used in decorators, frameworks, and advanced OOP patterns"
      ],
      "metadata": {
        "id": "F-c7JI-nf1qR"
      }
    },
    {
      "cell_type": "markdown",
      "source": [
        "#Practical Questions"
      ],
      "metadata": {
        "id": "aLzhMuUQgC0C"
      }
    },
    {
      "cell_type": "markdown",
      "source": [
        "QUS 1 :- . Create a parent class Animal with a method speak() that prints a generic message. Create a child class Dog\n",
        "that overrides the speak() method to print \"Bark!\"\n"
      ],
      "metadata": {
        "id": "nBZgIDlagFzy"
      }
    },
    {
      "cell_type": "code",
      "source": [
        "# Parent class\n",
        "class Animal:\n",
        "    def speak(self):\n",
        "        print(\"Animal makes a sound\")\n",
        "\n",
        "# Child class\n",
        "class Dog(Animal):\n",
        "    def speak(self):\n",
        "        print(\"Bark!\")\n",
        "\n",
        "# Example usage\n",
        "a = Animal()\n",
        "a.speak()  # Output: Animal makes a sound\n",
        "\n",
        "d = Dog()\n",
        "d.speak()  # Output: Bark!\n"
      ],
      "metadata": {
        "colab": {
          "base_uri": "https://localhost:8080/"
        },
        "id": "vrup70_RgPgC",
        "outputId": "dc754414-f61b-4a3d-dac9-cdc67081fb22"
      },
      "execution_count": 1,
      "outputs": [
        {
          "output_type": "stream",
          "name": "stdout",
          "text": [
            "Animal makes a sound\n",
            "Bark!\n"
          ]
        }
      ]
    },
    {
      "cell_type": "markdown",
      "source": [
        "QUS 2 :-  Write a program to create an abstract class Shape with a method area(). Derive classes Circle and Rectangle\n",
        "from it and implement the area() method in both."
      ],
      "metadata": {
        "id": "39OpmvvlgZuK"
      }
    },
    {
      "cell_type": "code",
      "source": [
        "from abc import ABC, abstractmethod\n",
        "import math\n",
        "\n",
        "# Abstract base class\n",
        "class Shape(ABC):\n",
        "    @abstractmethod\n",
        "    def area(self):\n",
        "        pass\n",
        "\n",
        "# Derived class: Circle\n",
        "class Circle(Shape):\n",
        "    def __init__(self, radius):\n",
        "        self.radius = radius\n",
        "\n",
        "    def area(self):\n",
        "        return math.pi * self.radius ** 2\n",
        "\n",
        "# Derived class: Rectangle\n",
        "class Rectangle(Shape):\n",
        "    def __init__(self, width, height):\n",
        "        self.width = width\n",
        "        self.height = height\n",
        "\n",
        "    def area(self):\n",
        "        return self.width * self.height\n",
        "\n",
        "# Example usage\n",
        "circle = Circle(5)\n",
        "rectangle = Rectangle(4, 6)\n",
        "\n",
        "print(\"Circle area:\", circle.area())         # Output: ~78.54\n",
        "print(\"Rectangle area:\", rectangle.area())   # Output: 24\n"
      ],
      "metadata": {
        "colab": {
          "base_uri": "https://localhost:8080/"
        },
        "id": "0UmIYqkegf8s",
        "outputId": "0a3ced08-58b7-4060-c7e8-1d6f860f0cf5"
      },
      "execution_count": 2,
      "outputs": [
        {
          "output_type": "stream",
          "name": "stdout",
          "text": [
            "Circle area: 78.53981633974483\n",
            "Rectangle area: 24\n"
          ]
        }
      ]
    },
    {
      "cell_type": "markdown",
      "source": [
        "QUS 3 :-  Implement a multi-level inheritance scenario where a class Vehicle has an attribute type. Derive a class Car\n",
        "and further derive a class ElectricCar that adds a battery attribute."
      ],
      "metadata": {
        "id": "RKScWMSHgkOi"
      }
    },
    {
      "cell_type": "code",
      "source": [
        "# Base class\n",
        "class Vehicle:\n",
        "    def __init__(self, vehicle_type):\n",
        "        self.type = vehicle_type\n",
        "\n",
        "    def show_type(self):\n",
        "        print(f\"Vehicle Type: {self.type}\")\n",
        "\n",
        "# Derived class\n",
        "class Car(Vehicle):\n",
        "    def __init__(self, vehicle_type, brand):\n",
        "        super().__init__(vehicle_type)\n",
        "        self.brand = brand\n",
        "\n",
        "    def show_brand(self):\n",
        "        print(f\"Brand: {self.brand}\")\n",
        "\n",
        "# Further derived class\n",
        "class ElectricCar(Car):\n",
        "    def __init__(self, vehicle_type, brand, battery_capacity):\n",
        "        super().__init__(vehicle_type, brand)\n",
        "        self.battery = battery_capacity\n",
        "\n",
        "    def show_battery(self):\n",
        "        print(f\"Battery Capacity: {self.battery} kWh\")\n",
        "\n",
        "# Example usage\n",
        "ecar = ElectricCar(\"Four Wheeler\", \"Tesla\", 75)\n",
        "ecar.show_type()      # Output: Vehicle Type: Four Wheeler\n",
        "ecar.show_brand()     # Output: Brand: Tesla\n",
        "ecar.show_battery()   # Output: Battery Capacity: 75 kWh\n"
      ],
      "metadata": {
        "colab": {
          "base_uri": "https://localhost:8080/"
        },
        "id": "I1yJthO-gogq",
        "outputId": "9d767415-a595-4b3a-9973-4f582b9bf22c"
      },
      "execution_count": 3,
      "outputs": [
        {
          "output_type": "stream",
          "name": "stdout",
          "text": [
            "Vehicle Type: Four Wheeler\n",
            "Brand: Tesla\n",
            "Battery Capacity: 75 kWh\n"
          ]
        }
      ]
    },
    {
      "cell_type": "markdown",
      "source": [
        "QUS 4 :- Demonstrate polymorphism by creating a base class Bird with a method fly(). Create two derived classes\n",
        "Sparrow and Penguin that override the fly() method."
      ],
      "metadata": {
        "id": "dAIrdJpxgt4C"
      }
    },
    {
      "cell_type": "code",
      "source": [
        "# Base class\n",
        "class Bird:\n",
        "    def fly(self):\n",
        "        print(\"Some bird is flying\")\n",
        "\n",
        "# Derived class 1\n",
        "class Sparrow(Bird):\n",
        "    def fly(self):\n",
        "        print(\"Sparrow can fly high!\")\n",
        "\n",
        "# Derived class 2\n",
        "class Penguin(Bird):\n",
        "    def fly(self):\n",
        "        print(\"Penguins can't fly, but they swim well!\")\n",
        "\n",
        "# Polymorphic function\n",
        "def make_bird_fly(bird):\n",
        "    bird.fly()\n",
        "\n",
        "# Example usage\n",
        "birds = [Sparrow(), Penguin()]\n",
        "\n",
        "for bird in birds:\n",
        "    make_bird_fly(bird)\n"
      ],
      "metadata": {
        "colab": {
          "base_uri": "https://localhost:8080/"
        },
        "id": "B6IQt2bDgx8a",
        "outputId": "54caac15-83fe-4ff3-d814-40b1194df79d"
      },
      "execution_count": 4,
      "outputs": [
        {
          "output_type": "stream",
          "name": "stdout",
          "text": [
            "Sparrow can fly high!\n",
            "Penguins can't fly, but they swim well!\n"
          ]
        }
      ]
    },
    {
      "cell_type": "markdown",
      "source": [
        "QUS 5 :-  Write a program to demonstrate encapsulation by creating a class BankAccount with private attributes\n",
        "balance and methods to deposit, withdraw, and check balance"
      ],
      "metadata": {
        "id": "QyshSwcqg4MK"
      }
    },
    {
      "cell_type": "code",
      "source": [
        "class BankAccount:\n",
        "    def __init__(self, initial_balance=0):\n",
        "        self.__balance = initial_balance  # private attribute\n",
        "\n",
        "    def deposit(self, amount):\n",
        "        if amount > 0:\n",
        "            self.__balance += amount\n",
        "            print(f\"Deposited: ₹{amount}\")\n",
        "        else:\n",
        "            print(\"Invalid deposit amount\")\n",
        "\n",
        "    def withdraw(self, amount):\n",
        "        if 0 < amount <= self.__balance:\n",
        "            self.__balance -= amount\n",
        "            print(f\"Withdrew: ₹{amount}\")\n",
        "        else:\n",
        "            print(\"Insufficient balance or invalid amount\")\n",
        "\n",
        "    def check_balance(self):\n",
        "        print(f\"Current Balance: ₹{self.__balance}\")\n",
        "\n",
        "# Example usage\n",
        "account = BankAccount(1000)\n",
        "account.deposit(500)        # Deposited: ₹500\n",
        "account.withdraw(200)       # Withdrew: ₹200\n",
        "account.check_balance()     # Current Balance: ₹1300\n",
        "\n",
        "# Trying to access private attribute (not recommended)\n",
        "# print(account.__balance)  # AttributeError\n"
      ],
      "metadata": {
        "colab": {
          "base_uri": "https://localhost:8080/"
        },
        "id": "Ips1L5TPg7Qr",
        "outputId": "a493af8c-669e-4252-bcdb-f6baa865071b"
      },
      "execution_count": 5,
      "outputs": [
        {
          "output_type": "stream",
          "name": "stdout",
          "text": [
            "Deposited: ₹500\n",
            "Withdrew: ₹200\n",
            "Current Balance: ₹1300\n"
          ]
        }
      ]
    },
    {
      "cell_type": "markdown",
      "source": [
        "QUS 6 :-  Demonstrate runtime polymorphism using a method play() in a base class Instrument. Derive classes Guitar\n",
        "and Piano that implement their own version of play()"
      ],
      "metadata": {
        "id": "y87QPAyThABj"
      }
    },
    {
      "cell_type": "code",
      "source": [
        "# Base class\n",
        "class Instrument:\n",
        "    def play(self):\n",
        "        print(\"Playing an instrument\")\n",
        "\n",
        "# Derived class 1\n",
        "class Guitar(Instrument):\n",
        "    def play(self):\n",
        "        print(\"Strumming the guitar 🎸\")\n",
        "\n",
        "# Derived class 2\n",
        "class Piano(Instrument):\n",
        "    def play(self):\n",
        "        print(\"Playing the piano 🎹\")\n",
        "\n",
        "# Function that demonstrates runtime polymorphism\n",
        "def perform(instrument):\n",
        "    instrument.play()  # Resolved at runtime\n",
        "\n",
        "# Example usage\n",
        "instruments = [Guitar(), Piano()]\n",
        "\n",
        "for inst in instruments:\n",
        "    perform(inst)\n"
      ],
      "metadata": {
        "colab": {
          "base_uri": "https://localhost:8080/"
        },
        "id": "TI4K_xQ0hH4C",
        "outputId": "2e26d2e2-264a-4f02-c648-89706fa1f050"
      },
      "execution_count": 6,
      "outputs": [
        {
          "output_type": "stream",
          "name": "stdout",
          "text": [
            "Strumming the guitar 🎸\n",
            "Playing the piano 🎹\n"
          ]
        }
      ]
    },
    {
      "cell_type": "markdown",
      "source": [
        "QUS 7 :-  Create a class MathOperations with a class method add_numbers() to add two numbers and a static\n",
        "method subtract_numbers() to subtract two numbers\n"
      ],
      "metadata": {
        "id": "DGQz349jhKeK"
      }
    },
    {
      "cell_type": "code",
      "source": [
        "class MathOperations:\n",
        "\n",
        "    @classmethod\n",
        "    def add_numbers(cls, a, b):\n",
        "        return a + b\n",
        "\n",
        "    @staticmethod\n",
        "    def subtract_numbers(a, b):\n",
        "        return a - b\n",
        "\n",
        "# Example usage\n",
        "print(\"Addition:\", MathOperations.add_numbers(10, 5))       # Output: 15\n",
        "print(\"Subtraction:\", MathOperations.subtract_numbers(10, 5))  # Output: 5\n"
      ],
      "metadata": {
        "colab": {
          "base_uri": "https://localhost:8080/"
        },
        "id": "A6W2oOmHhP56",
        "outputId": "c76ec7aa-3aca-433d-a033-99d1f35792f9"
      },
      "execution_count": 7,
      "outputs": [
        {
          "output_type": "stream",
          "name": "stdout",
          "text": [
            "Addition: 15\n",
            "Subtraction: 5\n"
          ]
        }
      ]
    },
    {
      "cell_type": "markdown",
      "source": [
        "QUS 8:- . Implement a class Person with a class method to count the total number of persons created.\n"
      ],
      "metadata": {
        "id": "nRrsG0T6hUdT"
      }
    },
    {
      "cell_type": "code",
      "source": [
        "class Person:\n",
        "    count = 0  # class variable to track number of persons\n",
        "\n",
        "    def __init__(self, name):\n",
        "        self.name = name\n",
        "        Person.count += 1\n",
        "\n",
        "    @classmethod\n",
        "    def get_total_persons(cls):\n",
        "        return cls.count\n",
        "\n",
        "# Creating Person objects\n",
        "p1 = Person(\"Alice\")\n",
        "p2 = Person(\"Bob\")\n",
        "p3 = Person(\"Charlie\")\n",
        "\n",
        "# Displaying total number of persons created\n",
        "print(\"Total Persons Created:\", Person.get_total_persons())  # Output: 3\n"
      ],
      "metadata": {
        "colab": {
          "base_uri": "https://localhost:8080/"
        },
        "id": "5WGKLOhbhfby",
        "outputId": "658eb63f-7332-44c0-b58c-dc025d048129"
      },
      "execution_count": 8,
      "outputs": [
        {
          "output_type": "stream",
          "name": "stdout",
          "text": [
            "Total Persons Created: 3\n"
          ]
        }
      ]
    },
    {
      "cell_type": "markdown",
      "source": [
        "QUS 9  Write a class Fraction with attributes numerator and denominator. Override the str method to display the\n",
        "fraction as \"numerator/denominator\"."
      ],
      "metadata": {
        "id": "2g0vWtuzhhVT"
      }
    },
    {
      "cell_type": "code",
      "source": [
        "class Fraction:\n",
        "    def __init__(self, numerator, denominator):\n",
        "        self.numerator = numerator\n",
        "        self.denominator = denominator\n",
        "\n",
        "    def __str__(self):\n",
        "        return f\"{self.numerator}/{self.denominator}\"\n",
        "\n",
        "# Example usage\n",
        "f1 = Fraction(3, 4)\n",
        "f2 = Fraction(5, 8)\n",
        "\n",
        "print(f1)  # Output: 3/4\n",
        "print(f2)  # Output: 5/8\n"
      ],
      "metadata": {
        "colab": {
          "base_uri": "https://localhost:8080/"
        },
        "id": "c8AJ27Z5hk0j",
        "outputId": "542798ee-f75f-4ba0-8b1e-b03b4024c626"
      },
      "execution_count": 9,
      "outputs": [
        {
          "output_type": "stream",
          "name": "stdout",
          "text": [
            "3/4\n",
            "5/8\n"
          ]
        }
      ]
    },
    {
      "cell_type": "markdown",
      "source": [
        "QUS 10 :- . Demonstrate operator overloading by creating a class Vector and overriding the add method to add two\n",
        "vectors."
      ],
      "metadata": {
        "id": "Bai1ct6dh7cL"
      }
    },
    {
      "cell_type": "code",
      "source": [
        "class Vector:\n",
        "    def __init__(self, x, y):\n",
        "        self.x = x\n",
        "        self.y = y\n",
        "\n",
        "    # Overload the + operator\n",
        "    def __add__(self, other):\n",
        "        return Vector(self.x + other.x, self.y + other.y)\n",
        "\n",
        "    # For printing the vector\n",
        "    def __str__(self):\n",
        "        return f\"Vector({self.x}, {self.y})\"\n",
        "\n",
        "# Example usage\n",
        "v1 = Vector(2, 3)\n",
        "v2 = Vector(4, 5)\n",
        "v3 = v1 + v2  # Calls v1.__add__(v2)\n",
        "\n",
        "print(v1)  # Output: Vector(2, 3)\n",
        "print(v2)  # Output: Vector(4, 5)\n",
        "print(v3)  # Output: Vector(6, 8)\n"
      ],
      "metadata": {
        "colab": {
          "base_uri": "https://localhost:8080/"
        },
        "id": "P8rvTX2Fh_7i",
        "outputId": "935da563-d356-4ef2-c918-e3a955ee8332"
      },
      "execution_count": 10,
      "outputs": [
        {
          "output_type": "stream",
          "name": "stdout",
          "text": [
            "Vector(2, 3)\n",
            "Vector(4, 5)\n",
            "Vector(6, 8)\n"
          ]
        }
      ]
    },
    {
      "cell_type": "markdown",
      "source": [
        "QUS 11 :-  Create a class Person with attributes name and age. Add a method greet() that prints \"Hello, my name is\n",
        "{name} and I am {age} years old."
      ],
      "metadata": {
        "id": "I6e4BgpviFH7"
      }
    },
    {
      "cell_type": "code",
      "source": [
        "class Person:\n",
        "    def __init__(self, name, age):\n",
        "        self.name = name\n",
        "        self.age = age\n",
        "\n",
        "    def greet(self):\n",
        "        print(f\"Hello, my name is {self.name} and I am {self.age} years old.\")\n",
        "\n",
        "# Example usage\n",
        "p1 = Person(\"VIKAS\", 23)\n",
        "p2 = Person(\"RUBY\", 25)\n",
        "\n",
        "p1.greet()  # Output: Hello, my name is Alice and I am 25 years old.\n",
        "p2.greet()  # Output: Hello, my name is Bob and I am 30 years old.\n"
      ],
      "metadata": {
        "colab": {
          "base_uri": "https://localhost:8080/"
        },
        "id": "K2unHgvWiIyL",
        "outputId": "56f08bd1-6bfe-45b5-9f8e-1362a0de3ee1"
      },
      "execution_count": 12,
      "outputs": [
        {
          "output_type": "stream",
          "name": "stdout",
          "text": [
            "Hello, my name is VIKAS and I am 23 years old.\n",
            "Hello, my name is RUBY and I am 25 years old.\n"
          ]
        }
      ]
    },
    {
      "cell_type": "markdown",
      "source": [
        "QUS 12 :-  Implement a class Student with attributes name and grades. Create a method average_grade() to compute\n",
        "the average of the grades"
      ],
      "metadata": {
        "id": "JkfCl_I3idaL"
      }
    },
    {
      "cell_type": "code",
      "source": [
        "class Student:\n",
        "    def __init__(self, name, grades):\n",
        "        self.name = name\n",
        "        self.grades = grades  # list of grades\n",
        "\n",
        "    def average_grade(self):\n",
        "        if self.grades:\n",
        "            return sum(self.grades) / len(self.grades)\n",
        "        else:\n",
        "            return 0\n",
        "\n",
        "# Example usage\n",
        "s1 = Student(\"Amit\", [85, 90, 78])\n",
        "s2 = Student(\"Neha\", [92, 88, 95, 100])\n",
        "\n",
        "print(f\"{s1.name}'s average grade: {s1.average_grade():.2f}\")  # Output: 84.33\n",
        "print(f\"{s2.name}'s average grade: {s2.average_grade():.2f}\")  # Output: 93.75\n"
      ],
      "metadata": {
        "colab": {
          "base_uri": "https://localhost:8080/"
        },
        "id": "NUR7-6OjikRz",
        "outputId": "2c889b93-58d8-46b8-9360-9566d06dd0a2"
      },
      "execution_count": 13,
      "outputs": [
        {
          "output_type": "stream",
          "name": "stdout",
          "text": [
            "Amit's average grade: 84.33\n",
            "Neha's average grade: 93.75\n"
          ]
        }
      ]
    },
    {
      "cell_type": "markdown",
      "source": [
        "QUS 13 :- Create a class Rectangle with methods set_dimensions() to set the dimensions and area() to calculate the\n",
        "area."
      ],
      "metadata": {
        "id": "JGouiVv-iu2T"
      }
    },
    {
      "cell_type": "code",
      "source": [
        "class Rectangle:\n",
        "    def __init__(self):\n",
        "        self.length = 0\n",
        "        self.width = 0\n",
        "\n",
        "    def set_dimensions(self, length, width):\n",
        "        self.length = length\n",
        "        self.width = width\n",
        "\n",
        "    def area(self):\n",
        "        return self.length * self.width\n",
        "\n",
        "# Example usage\n",
        "rect = Rectangle()\n",
        "rect.set_dimensions(7, 4)\n",
        "print(\"Area of rectangle:\", rect.area())  # Output: 28\n"
      ],
      "metadata": {
        "colab": {
          "base_uri": "https://localhost:8080/"
        },
        "id": "AZiFfXsXi1t7",
        "outputId": "d84ebfd0-4547-40d9-9ee5-8bd8c6dabc24"
      },
      "execution_count": 14,
      "outputs": [
        {
          "output_type": "stream",
          "name": "stdout",
          "text": [
            "Area of rectangle: 28\n"
          ]
        }
      ]
    },
    {
      "cell_type": "markdown",
      "source": [
        "QUS 14 :-  Create a class Employee with a method calculate_salary() that computes the salary based on hours worked\n",
        "and hourly rate. Create a derived class Manager that adds a bonus to the salary"
      ],
      "metadata": {
        "id": "Ro9AlX33i6lz"
      }
    },
    {
      "cell_type": "code",
      "source": [
        "class Employee:\n",
        "    def __init__(self, name, hours_worked, hourly_rate):\n",
        "        self.name = name\n",
        "        self.hours_worked = hours_worked\n",
        "        self.hourly_rate = hourly_rate\n",
        "\n",
        "    def calculate_salary(self):\n",
        "        return self.hours_worked * self.hourly_rate\n",
        "\n",
        "\n",
        "class Manager(Employee):\n",
        "    def __init__(self, name, hours_worked, hourly_rate, bonus):\n",
        "        super().__init__(name, hours_worked, hourly_rate)\n",
        "        self.bonus = bonus\n",
        "\n",
        "    def calculate_salary(self):\n",
        "        base_salary = super().calculate_salary()\n",
        "        return base_salary + self.bonus\n",
        "\n",
        "\n",
        "# Example usage\n",
        "emp = Employee(\"Rahul\", 40, 200)\n",
        "mgr = Manager(\"Priya\", 40, 300, 5000)\n",
        "\n",
        "print(f\"{emp.name}'s Salary: ₹{emp.calculate_salary()}\")  # Output: 8000\n",
        "print(f\"{mgr.name}'s Salary: ₹{mgr.calculate_salary()}\")  # Output: 17000\n"
      ],
      "metadata": {
        "colab": {
          "base_uri": "https://localhost:8080/"
        },
        "id": "ig0JRMqyi9mr",
        "outputId": "1f5ace9d-e782-4b69-c993-02327e927860"
      },
      "execution_count": 15,
      "outputs": [
        {
          "output_type": "stream",
          "name": "stdout",
          "text": [
            "Rahul's Salary: ₹8000\n",
            "Priya's Salary: ₹17000\n"
          ]
        }
      ]
    },
    {
      "cell_type": "markdown",
      "source": [
        "QUS 15 :- Create a class Product with attributes name, price, and quantity. Implement a method total_price() that\n",
        "calculates the total price of the product."
      ],
      "metadata": {
        "id": "05Jm99YujEi7"
      }
    },
    {
      "cell_type": "code",
      "source": [
        "class Product:\n",
        "    def __init__(self, name, price, quantity):\n",
        "        self.name = name\n",
        "        self.price = price\n",
        "        self.quantity = quantity\n",
        "\n",
        "    def total_price(self):\n",
        "        return self.price * self.quantity\n",
        "\n",
        "# Example usage\n",
        "product1 = Product(\"Laptop\", 50000, 2)\n",
        "product2 = Product(\"Mouse\", 500, 5)\n",
        "\n",
        "print(f\"Total price of {product1.name}: ₹{product1.total_price()}\")  # Output: ₹100000\n",
        "print(f\"Total price of {product2.name}: ₹{product2.total_price()}\")  # Output: ₹2500\n"
      ],
      "metadata": {
        "colab": {
          "base_uri": "https://localhost:8080/"
        },
        "id": "E7IfYws9jG-E",
        "outputId": "2f638e8c-3edf-423f-c471-5fbc385e4400"
      },
      "execution_count": 16,
      "outputs": [
        {
          "output_type": "stream",
          "name": "stdout",
          "text": [
            "Total price of Laptop: ₹100000\n",
            "Total price of Mouse: ₹2500\n"
          ]
        }
      ]
    },
    {
      "cell_type": "markdown",
      "source": [
        "QUS 16 :- . Create a class Animal with an abstract method sound(). Create two derived classes Cow and Sheep that\n",
        "implement the sound() method."
      ],
      "metadata": {
        "id": "nXsg-g2RjNJj"
      }
    },
    {
      "cell_type": "code",
      "source": [
        "from abc import ABC, abstractmethod\n",
        "\n",
        "class Animal(ABC):\n",
        "    @abstractmethod\n",
        "    def sound(self):\n",
        "        pass\n",
        "\n",
        "class Cow(Animal):\n",
        "    def sound(self):\n",
        "        return \"Moo\"\n",
        "\n",
        "class Sheep(Animal):\n",
        "    def sound(self):\n",
        "        return \"Baa\"\n",
        "\n",
        "# Example usage\n",
        "cow = Cow()\n",
        "sheep = Sheep()\n",
        "\n",
        "print(\"Cow says:\", cow.sound())     # Output: Moo\n",
        "print(\"Sheep says:\", sheep.sound()) # Output: Baa\n"
      ],
      "metadata": {
        "colab": {
          "base_uri": "https://localhost:8080/"
        },
        "id": "BSCxmE37jReT",
        "outputId": "65308c6f-7c68-406a-cd4e-5453fa7ba20d"
      },
      "execution_count": 17,
      "outputs": [
        {
          "output_type": "stream",
          "name": "stdout",
          "text": [
            "Cow says: Moo\n",
            "Sheep says: Baa\n"
          ]
        }
      ]
    },
    {
      "cell_type": "markdown",
      "source": [
        "QUS 17 :- Create a class Book with attributes title, author, and year_published. Add a method get_book_info() that\n",
        "returns a formatted string with the book's details"
      ],
      "metadata": {
        "id": "C3mjiZwUjbAM"
      }
    },
    {
      "cell_type": "code",
      "source": [
        "class Book:\n",
        "    def __init__(self, title, author, year_published):\n",
        "        self.title = title\n",
        "        self.author = author\n",
        "        self.year_published = year_published\n",
        "\n",
        "    def get_book_info(self):\n",
        "        return f\"'{self.title}' by {self.author}, published in {self.year_published}\"\n",
        "\n",
        "# Example usage\n",
        "book1 = Book(\"The Great Gatsby\", \"F. Scott Fitzgerald\", 1925)\n",
        "book2 = Book(\"A Brief History of Time\", \"Stephen Hawking\", 1988)\n",
        "\n",
        "print(book1.get_book_info())\n",
        "print(book2.get_book_info())\n"
      ],
      "metadata": {
        "colab": {
          "base_uri": "https://localhost:8080/"
        },
        "id": "wP_WGv69jdVD",
        "outputId": "fde53407-a67f-4de0-85d6-de54fc3639ee"
      },
      "execution_count": 18,
      "outputs": [
        {
          "output_type": "stream",
          "name": "stdout",
          "text": [
            "'The Great Gatsby' by F. Scott Fitzgerald, published in 1925\n",
            "'A Brief History of Time' by Stephen Hawking, published in 1988\n"
          ]
        }
      ]
    },
    {
      "cell_type": "markdown",
      "source": [
        "QUS 18 :- . Create a class House with attributes address and price. Create a derived class Mansion that adds an\n",
        "attribute number_of_rooms"
      ],
      "metadata": {
        "id": "P4ypWE3Djj_8"
      }
    },
    {
      "cell_type": "code",
      "source": [
        "class House:\n",
        "    def __init__(self, address, price):\n",
        "        self.address = address\n",
        "        self.price = price\n",
        "\n",
        "    def get_details(self):\n",
        "        return f\"Address: {self.address}, Price: ₹{self.price}\"\n",
        "\n",
        "class Mansion(House):\n",
        "    def __init__(self, address, price, number_of_rooms):\n",
        "        super().__init__(address, price)\n",
        "        self.number_of_rooms = number_of_rooms\n",
        "\n",
        "    def get_details(self):\n",
        "        base_details = super().get_details()\n",
        "        return f\"{base_details}, Rooms: {self.number_of_rooms}\"\n",
        "\n",
        "# Example usage\n",
        "m1 = Mansion(\"123 Palm Street\", 50000000, 10)\n",
        "print(m1.get_details())\n"
      ],
      "metadata": {
        "id": "LWUiP2BJjtWb",
        "outputId": "9d00ef61-82ea-4ff9-c623-8391ba1de70b",
        "colab": {
          "base_uri": "https://localhost:8080/"
        }
      },
      "execution_count": 19,
      "outputs": [
        {
          "output_type": "stream",
          "name": "stdout",
          "text": [
            "Address: 123 Palm Street, Price: ₹50000000, Rooms: 10\n"
          ]
        }
      ]
    }
  ]
}